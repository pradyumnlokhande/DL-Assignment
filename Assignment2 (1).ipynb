{
  "nbformat": 4,
  "nbformat_minor": 0,
  "metadata": {
    "colab": {
      "name": "Assignment2.ipynb",
      "provenance": []
    },
    "kernelspec": {
      "name": "python3",
      "display_name": "Python 3"
    },
    "language_info": {
      "name": "python"
    }
  },
  "cells": [
    {
      "cell_type": "code",
      "execution_count": 1,
      "metadata": {
        "id": "XMRga7AjqEq8"
      },
      "outputs": [],
      "source": [
        "import numpy as np"
      ]
    },
    {
      "cell_type": "code",
      "source": [
        "ytrue=np.array([0.70,0,1,0.30,0.5])\n",
        "ypred=np.array([1,0,0,1,1])"
      ],
      "metadata": {
        "id": "Mqa-2qFnu8op"
      },
      "execution_count": 2,
      "outputs": []
    },
    {
      "cell_type": "markdown",
      "source": [
        "## Q1.implement mean square error using numpy"
      ],
      "metadata": {
        "id": "ztO98J26vWFr"
      }
    },
    {
      "cell_type": "code",
      "source": [
        "sub=(ytrue-ypred)\n",
        "sub"
      ],
      "metadata": {
        "colab": {
          "base_uri": "https://localhost:8080/"
        },
        "id": "Dr5uoEsru9Hr",
        "outputId": "a5db5f0e-decd-405c-82de-1534d77aa233"
      },
      "execution_count": 8,
      "outputs": [
        {
          "output_type": "execute_result",
          "data": {
            "text/plain": [
              "array([-0.3,  0. ,  1. , -0.7, -0.5])"
            ]
          },
          "metadata": {},
          "execution_count": 8
        }
      ]
    },
    {
      "cell_type": "code",
      "source": [
        "square=np.square(sub)\n",
        "square"
      ],
      "metadata": {
        "colab": {
          "base_uri": "https://localhost:8080/"
        },
        "id": "KDbpWZ7fwdx8",
        "outputId": "1a69bfb1-ddd4-422c-f601-b77b20dba851"
      },
      "execution_count": 5,
      "outputs": [
        {
          "output_type": "execute_result",
          "data": {
            "text/plain": [
              "array([0.09, 0.  , 1.  , 0.49, 0.25])"
            ]
          },
          "metadata": {},
          "execution_count": 5
        }
      ]
    },
    {
      "cell_type": "code",
      "source": [
        "mse=square.mean()\n",
        "mse"
      ],
      "metadata": {
        "colab": {
          "base_uri": "https://localhost:8080/"
        },
        "id": "sZwrhhSmyTck",
        "outputId": "98588926-9c50-46f0-c560-6d3b63d3bdba"
      },
      "execution_count": 13,
      "outputs": [
        {
          "output_type": "execute_result",
          "data": {
            "text/plain": [
              "0.366"
            ]
          },
          "metadata": {},
          "execution_count": 13
        }
      ]
    },
    {
      "cell_type": "code",
      "source": [
        "MSE=np.square(np.subtract(ytrue,ypred)).mean()\n",
        "MSE"
      ],
      "metadata": {
        "colab": {
          "base_uri": "https://localhost:8080/"
        },
        "id": "6LT8RPqPwv5J",
        "outputId": "a6f2e19d-c4ea-474d-e193-f1c111442a70"
      },
      "execution_count": 12,
      "outputs": [
        {
          "output_type": "execute_result",
          "data": {
            "text/plain": [
              "0.366"
            ]
          },
          "metadata": {},
          "execution_count": 12
        }
      ]
    },
    {
      "cell_type": "code",
      "source": [
        "mse=np.mean((ytrue-ypred)**2)\n",
        "mse"
      ],
      "metadata": {
        "colab": {
          "base_uri": "https://localhost:8080/"
        },
        "id": "fxrfaNHZFMjV",
        "outputId": "c71852de-8c7d-4302-b2e2-d9a63b5eb35a"
      },
      "execution_count": 8,
      "outputs": [
        {
          "output_type": "execute_result",
          "data": {
            "text/plain": [
              "0.366"
            ]
          },
          "metadata": {},
          "execution_count": 8
        }
      ]
    },
    {
      "cell_type": "markdown",
      "source": [
        "## Q2. without using numpy"
      ],
      "metadata": {
        "id": "_6t-t7HqykPp"
      }
    },
    {
      "cell_type": "code",
      "source": [
        "def mean_squared_error(ytrue,ypred):\n",
        "  err = 0\n",
        "  for yt, yp in zip(ytrue,ypred):\n",
        "    err+=(yt-yp)**2\n",
        "  print(\"Total Error\",err)\n",
        "  mse = (err/len(ytrue))\n",
        "  return mse\n",
        "\n",
        "mse = mean_squared_error(ytrue,ypred)\n",
        "print(\"Mean squared error is :\",mse)"
      ],
      "metadata": {
        "colab": {
          "base_uri": "https://localhost:8080/"
        },
        "id": "MnskbREsyu4u",
        "outputId": "5c1c008e-a7cb-4889-ce58-4965f9fc55bc"
      },
      "execution_count": 6,
      "outputs": [
        {
          "output_type": "stream",
          "name": "stdout",
          "text": [
            "Total Error 1.83\n",
            "Mean squared error is : 0.366\n"
          ]
        }
      ]
    },
    {
      "cell_type": "code",
      "source": [
        "sum = 0 \n",
        "n = len(ytrue) \n",
        "for i in range (0,n):\n",
        "  difference = ytrue[i] - ypred[i]  \n",
        "  square = difference**2  \n",
        "  sum = sum + square\n",
        "MSE = sum/n  \n",
        "print (\"The Mean Squared Error is: \" , MSE)"
      ],
      "metadata": {
        "colab": {
          "base_uri": "https://localhost:8080/"
        },
        "id": "JEfXQPzJ8Di_",
        "outputId": "7f8ad024-26b6-4d6e-d947-be934528ffe5"
      },
      "execution_count": 7,
      "outputs": [
        {
          "output_type": "stream",
          "name": "stdout",
          "text": [
            "The Mean Squared Error is:  0.366\n"
          ]
        }
      ]
    }
  ]
}